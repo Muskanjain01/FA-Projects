{
 "cells": [
  {
   "cell_type": "markdown",
   "metadata": {
    "id": "s2Ci3YO7zgYZ"
   },
   "source": [
    "# 015034\n",
    "# Muskan Jain\n",
    "# Project 1"
   ]
  },
  {
   "cell_type": "code",
   "execution_count": 2,
   "metadata": {
    "colab": {
     "base_uri": "https://localhost:8080/"
    },
    "id": "u5kDjA4ZfhX2",
    "outputId": "408632b8-a244-45d8-f655-56ac172b1758"
   },
   "outputs": [
    {
     "name": "stdout",
     "output_type": "stream",
     "text": [
      "Mounted at /gdrive\n"
     ]
    }
   ],
   "source": [
    "#Mounting google drive\n",
    "from google.colab import drive\n",
    "drive.mount('/gdrive')"
   ]
  },
  {
   "cell_type": "code",
   "execution_count": 4,
   "metadata": {
    "id": "lBFQEeQEgJqm"
   },
   "outputs": [],
   "source": [
    "import pandas as pd"
   ]
  },
  {
   "cell_type": "code",
   "execution_count": 5,
   "metadata": {
    "id": "qi1R8vD3fjvq"
   },
   "outputs": [],
   "source": [
    "#Reading dataset\n",
    "df = pd.read_csv(\"/gdrive/MyDrive/supermarket_sales - Sheet1.csv\")"
   ]
  },
  {
   "cell_type": "code",
   "execution_count": 6,
   "metadata": {
    "id": "Ni1NF58AgHqg"
   },
   "outputs": [],
   "source": [
    "# 1.2 Display multiple outputs from a Cell\n",
    "\n",
    "from IPython.core.interactiveshell import InteractiveShell\n",
    "InteractiveShell.ast_node_interactivity = \"all\""
   ]
  },
  {
   "cell_type": "code",
   "execution_count": 7,
   "metadata": {
    "colab": {
     "base_uri": "https://localhost:8080/",
     "height": 391
    },
    "id": "DX9scwyHgSfd",
    "outputId": "de79bcfd-c38b-412c-fcf5-95db5b844980"
   },
   "outputs": [
    {
     "data": {
      "text/html": [
       "\n",
       "  <div id=\"df-7c1a6458-4383-4a81-91f9-9d5f106b2cc2\">\n",
       "    <div class=\"colab-df-container\">\n",
       "      <div>\n",
       "<style scoped>\n",
       "    .dataframe tbody tr th:only-of-type {\n",
       "        vertical-align: middle;\n",
       "    }\n",
       "\n",
       "    .dataframe tbody tr th {\n",
       "        vertical-align: top;\n",
       "    }\n",
       "\n",
       "    .dataframe thead th {\n",
       "        text-align: right;\n",
       "    }\n",
       "</style>\n",
       "<table border=\"1\" class=\"dataframe\">\n",
       "  <thead>\n",
       "    <tr style=\"text-align: right;\">\n",
       "      <th></th>\n",
       "      <th>Invoice ID</th>\n",
       "      <th>Branch</th>\n",
       "      <th>City</th>\n",
       "      <th>Customer type</th>\n",
       "      <th>Gender</th>\n",
       "      <th>Product line</th>\n",
       "      <th>Unit price</th>\n",
       "      <th>Quantity</th>\n",
       "      <th>Tax 5%</th>\n",
       "      <th>Total</th>\n",
       "      <th>Date</th>\n",
       "      <th>Time</th>\n",
       "      <th>Payment</th>\n",
       "      <th>cogs</th>\n",
       "      <th>gross margin percentage</th>\n",
       "      <th>gross income</th>\n",
       "      <th>Rating</th>\n",
       "    </tr>\n",
       "  </thead>\n",
       "  <tbody>\n",
       "    <tr>\n",
       "      <th>0</th>\n",
       "      <td>750-67-8428</td>\n",
       "      <td>A</td>\n",
       "      <td>Yangon</td>\n",
       "      <td>Member</td>\n",
       "      <td>Female</td>\n",
       "      <td>Health and beauty</td>\n",
       "      <td>74.69</td>\n",
       "      <td>7</td>\n",
       "      <td>26.1415</td>\n",
       "      <td>548.9715</td>\n",
       "      <td>1/5/2019</td>\n",
       "      <td>13:08</td>\n",
       "      <td>Ewallet</td>\n",
       "      <td>522.83</td>\n",
       "      <td>4.761905</td>\n",
       "      <td>26.1415</td>\n",
       "      <td>9.1</td>\n",
       "    </tr>\n",
       "    <tr>\n",
       "      <th>1</th>\n",
       "      <td>226-31-3081</td>\n",
       "      <td>C</td>\n",
       "      <td>Naypyitaw</td>\n",
       "      <td>Normal</td>\n",
       "      <td>Female</td>\n",
       "      <td>Electronic accessories</td>\n",
       "      <td>15.28</td>\n",
       "      <td>5</td>\n",
       "      <td>3.8200</td>\n",
       "      <td>80.2200</td>\n",
       "      <td>3/8/2019</td>\n",
       "      <td>10:29</td>\n",
       "      <td>Cash</td>\n",
       "      <td>76.40</td>\n",
       "      <td>4.761905</td>\n",
       "      <td>3.8200</td>\n",
       "      <td>9.6</td>\n",
       "    </tr>\n",
       "    <tr>\n",
       "      <th>2</th>\n",
       "      <td>631-41-3108</td>\n",
       "      <td>A</td>\n",
       "      <td>Yangon</td>\n",
       "      <td>Normal</td>\n",
       "      <td>Male</td>\n",
       "      <td>Home and lifestyle</td>\n",
       "      <td>46.33</td>\n",
       "      <td>7</td>\n",
       "      <td>16.2155</td>\n",
       "      <td>340.5255</td>\n",
       "      <td>3/3/2019</td>\n",
       "      <td>13:23</td>\n",
       "      <td>Credit card</td>\n",
       "      <td>324.31</td>\n",
       "      <td>4.761905</td>\n",
       "      <td>16.2155</td>\n",
       "      <td>7.4</td>\n",
       "    </tr>\n",
       "    <tr>\n",
       "      <th>3</th>\n",
       "      <td>123-19-1176</td>\n",
       "      <td>A</td>\n",
       "      <td>Yangon</td>\n",
       "      <td>Member</td>\n",
       "      <td>Male</td>\n",
       "      <td>Health and beauty</td>\n",
       "      <td>58.22</td>\n",
       "      <td>8</td>\n",
       "      <td>23.2880</td>\n",
       "      <td>489.0480</td>\n",
       "      <td>1/27/2019</td>\n",
       "      <td>20:33</td>\n",
       "      <td>Ewallet</td>\n",
       "      <td>465.76</td>\n",
       "      <td>4.761905</td>\n",
       "      <td>23.2880</td>\n",
       "      <td>8.4</td>\n",
       "    </tr>\n",
       "    <tr>\n",
       "      <th>4</th>\n",
       "      <td>373-73-7910</td>\n",
       "      <td>A</td>\n",
       "      <td>Yangon</td>\n",
       "      <td>Normal</td>\n",
       "      <td>Male</td>\n",
       "      <td>Sports and travel</td>\n",
       "      <td>86.31</td>\n",
       "      <td>7</td>\n",
       "      <td>30.2085</td>\n",
       "      <td>634.3785</td>\n",
       "      <td>2/8/2019</td>\n",
       "      <td>10:37</td>\n",
       "      <td>Ewallet</td>\n",
       "      <td>604.17</td>\n",
       "      <td>4.761905</td>\n",
       "      <td>30.2085</td>\n",
       "      <td>5.3</td>\n",
       "    </tr>\n",
       "  </tbody>\n",
       "</table>\n",
       "</div>\n",
       "      <button class=\"colab-df-convert\" onclick=\"convertToInteractive('df-7c1a6458-4383-4a81-91f9-9d5f106b2cc2')\"\n",
       "              title=\"Convert this dataframe to an interactive table.\"\n",
       "              style=\"display:none;\">\n",
       "        \n",
       "  <svg xmlns=\"http://www.w3.org/2000/svg\" height=\"24px\"viewBox=\"0 0 24 24\"\n",
       "       width=\"24px\">\n",
       "    <path d=\"M0 0h24v24H0V0z\" fill=\"none\"/>\n",
       "    <path d=\"M18.56 5.44l.94 2.06.94-2.06 2.06-.94-2.06-.94-.94-2.06-.94 2.06-2.06.94zm-11 1L8.5 8.5l.94-2.06 2.06-.94-2.06-.94L8.5 2.5l-.94 2.06-2.06.94zm10 10l.94 2.06.94-2.06 2.06-.94-2.06-.94-.94-2.06-.94 2.06-2.06.94z\"/><path d=\"M17.41 7.96l-1.37-1.37c-.4-.4-.92-.59-1.43-.59-.52 0-1.04.2-1.43.59L10.3 9.45l-7.72 7.72c-.78.78-.78 2.05 0 2.83L4 21.41c.39.39.9.59 1.41.59.51 0 1.02-.2 1.41-.59l7.78-7.78 2.81-2.81c.8-.78.8-2.07 0-2.86zM5.41 20L4 18.59l7.72-7.72 1.47 1.35L5.41 20z\"/>\n",
       "  </svg>\n",
       "      </button>\n",
       "      \n",
       "  <style>\n",
       "    .colab-df-container {\n",
       "      display:flex;\n",
       "      flex-wrap:wrap;\n",
       "      gap: 12px;\n",
       "    }\n",
       "\n",
       "    .colab-df-convert {\n",
       "      background-color: #E8F0FE;\n",
       "      border: none;\n",
       "      border-radius: 50%;\n",
       "      cursor: pointer;\n",
       "      display: none;\n",
       "      fill: #1967D2;\n",
       "      height: 32px;\n",
       "      padding: 0 0 0 0;\n",
       "      width: 32px;\n",
       "    }\n",
       "\n",
       "    .colab-df-convert:hover {\n",
       "      background-color: #E2EBFA;\n",
       "      box-shadow: 0px 1px 2px rgba(60, 64, 67, 0.3), 0px 1px 3px 1px rgba(60, 64, 67, 0.15);\n",
       "      fill: #174EA6;\n",
       "    }\n",
       "\n",
       "    [theme=dark] .colab-df-convert {\n",
       "      background-color: #3B4455;\n",
       "      fill: #D2E3FC;\n",
       "    }\n",
       "\n",
       "    [theme=dark] .colab-df-convert:hover {\n",
       "      background-color: #434B5C;\n",
       "      box-shadow: 0px 1px 3px 1px rgba(0, 0, 0, 0.15);\n",
       "      filter: drop-shadow(0px 1px 2px rgba(0, 0, 0, 0.3));\n",
       "      fill: #FFFFFF;\n",
       "    }\n",
       "  </style>\n",
       "\n",
       "      <script>\n",
       "        const buttonEl =\n",
       "          document.querySelector('#df-7c1a6458-4383-4a81-91f9-9d5f106b2cc2 button.colab-df-convert');\n",
       "        buttonEl.style.display =\n",
       "          google.colab.kernel.accessAllowed ? 'block' : 'none';\n",
       "\n",
       "        async function convertToInteractive(key) {\n",
       "          const element = document.querySelector('#df-7c1a6458-4383-4a81-91f9-9d5f106b2cc2');\n",
       "          const dataTable =\n",
       "            await google.colab.kernel.invokeFunction('convertToInteractive',\n",
       "                                                     [key], {});\n",
       "          if (!dataTable) return;\n",
       "\n",
       "          const docLinkHtml = 'Like what you see? Visit the ' +\n",
       "            '<a target=\"_blank\" href=https://colab.research.google.com/notebooks/data_table.ipynb>data table notebook</a>'\n",
       "            + ' to learn more about interactive tables.';\n",
       "          element.innerHTML = '';\n",
       "          dataTable['output_type'] = 'display_data';\n",
       "          await google.colab.output.renderOutput(dataTable, element);\n",
       "          const docLink = document.createElement('div');\n",
       "          docLink.innerHTML = docLinkHtml;\n",
       "          element.appendChild(docLink);\n",
       "        }\n",
       "      </script>\n",
       "    </div>\n",
       "  </div>\n",
       "  "
      ],
      "text/plain": [
       "    Invoice ID Branch       City  ... gross margin percentage gross income Rating\n",
       "0  750-67-8428      A     Yangon  ...                4.761905      26.1415    9.1\n",
       "1  226-31-3081      C  Naypyitaw  ...                4.761905       3.8200    9.6\n",
       "2  631-41-3108      A     Yangon  ...                4.761905      16.2155    7.4\n",
       "3  123-19-1176      A     Yangon  ...                4.761905      23.2880    8.4\n",
       "4  373-73-7910      A     Yangon  ...                4.761905      30.2085    5.3\n",
       "\n",
       "[5 rows x 17 columns]"
      ]
     },
     "execution_count": 7,
     "metadata": {},
     "output_type": "execute_result"
    }
   ],
   "source": [
    "df.head()"
   ]
  },
  {
   "cell_type": "code",
   "execution_count": 8,
   "metadata": {
    "id": "vgJT7G7qgYlF"
   },
   "outputs": [],
   "source": [
    "num_df = df[['Unit price','Quantity','Tax 5%','Total','cogs','gross margin percentage','gross income','Rating']].copy()"
   ]
  },
  {
   "cell_type": "code",
   "execution_count": 9,
   "metadata": {
    "id": "oSrMv7uohWv6"
   },
   "outputs": [],
   "source": [
    "cat_df = df[['Branch','City','Customer type','Gender','Product line','Payment']]"
   ]
  },
  {
   "cell_type": "code",
   "execution_count": 22,
   "metadata": {
    "colab": {
     "base_uri": "https://localhost:8080/"
    },
    "id": "cTkJ9jHzkN1_",
    "outputId": "dcb6ea4f-2b5d-47e9-af0b-ba2fb5989954"
   },
   "outputs": [
    {
     "data": {
      "text/plain": [
       "(1000, 7)"
      ]
     },
     "execution_count": 22,
     "metadata": {},
     "output_type": "execute_result"
    },
    {
     "data": {
      "text/plain": [
       "(1000,)"
      ]
     },
     "execution_count": 22,
     "metadata": {},
     "output_type": "execute_result"
    }
   ],
   "source": [
    "y = num_df['Rating']\n",
    "ds = num_df.drop('Rating',axis=1) \n",
    "ds.shape\n",
    "y.shape"
   ]
  },
  {
   "cell_type": "code",
   "execution_count": 23,
   "metadata": {
    "id": "nH0vYBJzjmIa"
   },
   "outputs": [],
   "source": [
    "from sklearn.preprocessing import StandardScaler"
   ]
  },
  {
   "cell_type": "code",
   "execution_count": 24,
   "metadata": {
    "id": "kRpHofxGjY7G"
   },
   "outputs": [],
   "source": [
    "ss = StandardScaler()\n",
    "X = ss.fit_transform(ds)"
   ]
  },
  {
   "cell_type": "code",
   "execution_count": 25,
   "metadata": {
    "colab": {
     "base_uri": "https://localhost:8080/"
    },
    "id": "0vV3TR8ojkKb",
    "outputId": "110fb255-e077-4137-fcca-44cfa897bf76"
   },
   "outputs": [
    {
     "data": {
      "text/plain": [
       "(800, 7)"
      ]
     },
     "execution_count": 25,
     "metadata": {},
     "output_type": "execute_result"
    },
    {
     "data": {
      "text/plain": [
       "(200, 7)"
      ]
     },
     "execution_count": 25,
     "metadata": {},
     "output_type": "execute_result"
    }
   ],
   "source": [
    "from sklearn.model_selection import train_test_split\n",
    "# 3.0 Split train/test data\n",
    "X_train,X_test, y_train,y_test = train_test_split(X,y,test_size = 0.2)\n",
    "X_train.shape   # (16512, 8)\n",
    "X_test.shape    # (4128, 8)"
   ]
  },
  {
   "cell_type": "code",
   "execution_count": 26,
   "metadata": {
    "id": "Pwc0VdBrj4ct"
   },
   "outputs": [],
   "source": [
    "# Import tensorflow/keras \n",
    "import tensorflow as tf\n",
    "from tensorflow.keras import layers \n",
    "from tensorflow.keras.models import Model\n",
    "from tensorflow.keras.utils import plot_model"
   ]
  },
  {
   "cell_type": "code",
   "execution_count": 27,
   "metadata": {
    "colab": {
     "base_uri": "https://localhost:8080/"
    },
    "id": "sjNHMuKPnHG3",
    "outputId": "a0e0bb18-cc10-486e-b4fd-0c9de9e34821"
   },
   "outputs": [
    {
     "data": {
      "text/plain": [
       "keras.engine.keras_tensor.KerasTensor"
      ]
     },
     "execution_count": 27,
     "metadata": {},
     "output_type": "execute_result"
    }
   ],
   "source": [
    "# Design Model\n",
    "inputs = tf.keras.Input(shape = X.shape[1], batch_size=None)\n",
    "type(inputs)"
   ]
  },
  {
   "cell_type": "code",
   "execution_count": 28,
   "metadata": {
    "colab": {
     "base_uri": "https://localhost:8080/"
    },
    "id": "bBA34fe_nVEw",
    "outputId": "3969fdcc-6f10-4872-824f-9fd04280ff66"
   },
   "outputs": [
    {
     "name": "stdout",
     "output_type": "stream",
     "text": [
      "<dtype: 'float32'>\n",
      "(None, 7)\n",
      "input_1\n"
     ]
    }
   ],
   "source": [
    "# 3.1.2 Examine the tensor object\n",
    "print(inputs.dtype)\n",
    "print(inputs.shape)\n",
    "print(inputs.name)"
   ]
  },
  {
   "cell_type": "code",
   "execution_count": 29,
   "metadata": {
    "id": "xbQuSXownZKW"
   },
   "outputs": [],
   "source": [
    "# 3.2 Add layers. Each layer outputs a tensor:\n",
    "\n",
    "x = layers.Dense(100, activation = 'relu')(inputs)"
   ]
  },
  {
   "cell_type": "code",
   "execution_count": 30,
   "metadata": {
    "colab": {
     "base_uri": "https://localhost:8080/"
    },
    "id": "rNHYOa8Dntf_",
    "outputId": "ac234c2d-3880-417f-986e-abfeac6ea825"
   },
   "outputs": [
    {
     "name": "stdout",
     "output_type": "stream",
     "text": [
      "<class 'keras.engine.keras_tensor.KerasTensor'>\n",
      "(None, 100)\n"
     ]
    }
   ],
   "source": [
    "# 3.2.1 Get nature of 'x'\n",
    "\n",
    "print(type(x))\n",
    "print(x.shape )"
   ]
  },
  {
   "cell_type": "code",
   "execution_count": 31,
   "metadata": {
    "colab": {
     "base_uri": "https://localhost:8080/"
    },
    "id": "B8U6zaRonyas",
    "outputId": "a85582c3-1f74-49ba-de6e-6d9b14b9163e"
   },
   "outputs": [
    {
     "data": {
      "text/plain": [
       "keras.engine.keras_tensor.KerasTensor"
      ]
     },
     "execution_count": 31,
     "metadata": {},
     "output_type": "execute_result"
    },
    {
     "data": {
      "text/plain": [
       "TensorShape([None, 100])"
      ]
     },
     "execution_count": 31,
     "metadata": {},
     "output_type": "execute_result"
    }
   ],
   "source": [
    "# 3.2.2 Examine x:\n",
    "\n",
    "type(x)\n",
    "x.shape"
   ]
  },
  {
   "cell_type": "code",
   "execution_count": 48,
   "metadata": {
    "id": "Nk_vz2h0yMVM"
   },
   "outputs": [],
   "source": [
    "# 3.3 Add ome more layer:\n",
    "\n",
    "x = layers.Dense(100, activation = 'relu')(x)"
   ]
  },
  {
   "cell_type": "code",
   "execution_count": 49,
   "metadata": {
    "id": "BSTxLzz6yM4v"
   },
   "outputs": [],
   "source": [
    "# 3.3.1\n",
    "x = tf.keras.layers.concatenate([x,inputs])\n",
    "out = layers.Dense(1,activation = 'sigmoid')(x)\n",
    "\n",
    "# 3.3.1 Create model now\n",
    "model = Model(inputs = [inputs], outputs = [out])"
   ]
  },
  {
   "cell_type": "code",
   "execution_count": 50,
   "metadata": {
    "colab": {
     "base_uri": "https://localhost:8080/"
    },
    "id": "26QvHwHwyQWC",
    "outputId": "30cd746d-abb6-40e0-a611-61cd992a16f9"
   },
   "outputs": [
    {
     "name": "stdout",
     "output_type": "stream",
     "text": [
      "Model: \"model\"\n",
      "__________________________________________________________________________________________________\n",
      " Layer (type)                   Output Shape         Param #     Connected to                     \n",
      "==================================================================================================\n",
      " input_1 (InputLayer)           [(None, 7)]          0           []                               \n",
      "                                                                                                  \n",
      " dense (Dense)                  (None, 100)          800         ['input_1[0][0]']                \n",
      "                                                                                                  \n",
      " dense_1 (Dense)                (None, 100)          10100       ['dense[0][0]']                  \n",
      "                                                                                                  \n",
      " concatenate (Concatenate)      (None, 107)          0           ['dense_1[0][0]',                \n",
      "                                                                  'input_1[0][0]']                \n",
      "                                                                                                  \n",
      " dense_2 (Dense)                (None, 1)            108         ['concatenate[0][0]']            \n",
      "                                                                                                  \n",
      "==================================================================================================\n",
      "Total params: 11,008\n",
      "Trainable params: 11,008\n",
      "Non-trainable params: 0\n",
      "__________________________________________________________________________________________________\n"
     ]
    }
   ],
   "source": [
    "# 3.4 Print model summary\n",
    "model.summary()"
   ]
  },
  {
   "cell_type": "code",
   "execution_count": 51,
   "metadata": {
    "colab": {
     "base_uri": "https://localhost:8080/"
    },
    "id": "qSgHuaF5yTD6",
    "outputId": "2488630c-7fb6-423e-c6f8-5a3963ef8b39"
   },
   "outputs": [
    {
     "name": "stdout",
     "output_type": "stream",
     "text": [
      "Epoch 1/50\n",
      "25/25 [==============================] - 1s 3ms/step - loss: 40.2944\n",
      "Epoch 2/50\n",
      "25/25 [==============================] - 0s 3ms/step - loss: 38.5975\n",
      "Epoch 3/50\n",
      "25/25 [==============================] - 0s 3ms/step - loss: 38.3641\n",
      "Epoch 4/50\n",
      "25/25 [==============================] - 0s 3ms/step - loss: 38.3058\n",
      "Epoch 5/50\n",
      "25/25 [==============================] - 0s 3ms/step - loss: 38.2907\n",
      "Epoch 6/50\n",
      "25/25 [==============================] - 0s 3ms/step - loss: 38.2869\n",
      "Epoch 7/50\n",
      "25/25 [==============================] - 0s 3ms/step - loss: 38.2859\n",
      "Epoch 8/50\n",
      "25/25 [==============================] - 0s 3ms/step - loss: 38.2856\n",
      "Epoch 9/50\n",
      "25/25 [==============================] - 0s 4ms/step - loss: 38.2856\n",
      "Epoch 10/50\n",
      "25/25 [==============================] - 0s 3ms/step - loss: 38.2856\n",
      "Epoch 11/50\n",
      "25/25 [==============================] - 0s 3ms/step - loss: 38.2856\n",
      "Epoch 12/50\n",
      "25/25 [==============================] - 0s 3ms/step - loss: 38.2856\n",
      "Epoch 13/50\n",
      "25/25 [==============================] - 0s 3ms/step - loss: 38.2856\n",
      "Epoch 14/50\n",
      "25/25 [==============================] - 0s 3ms/step - loss: 38.2856\n",
      "Epoch 15/50\n",
      "25/25 [==============================] - 0s 3ms/step - loss: 38.2856\n",
      "Epoch 16/50\n",
      "25/25 [==============================] - 0s 3ms/step - loss: 38.2856\n",
      "Epoch 17/50\n",
      "25/25 [==============================] - 0s 3ms/step - loss: 38.2856\n",
      "Epoch 18/50\n",
      "25/25 [==============================] - 0s 3ms/step - loss: 38.2856\n",
      "Epoch 19/50\n",
      "25/25 [==============================] - 0s 3ms/step - loss: 38.2856\n",
      "Epoch 20/50\n",
      "25/25 [==============================] - 0s 3ms/step - loss: 38.2856\n",
      "Epoch 21/50\n",
      "25/25 [==============================] - 0s 3ms/step - loss: 38.2856\n",
      "Epoch 22/50\n",
      "25/25 [==============================] - 0s 3ms/step - loss: 38.2856\n",
      "Epoch 23/50\n",
      "25/25 [==============================] - 0s 3ms/step - loss: 38.2856\n",
      "Epoch 24/50\n",
      "25/25 [==============================] - 0s 3ms/step - loss: 38.2856\n",
      "Epoch 25/50\n",
      "25/25 [==============================] - 0s 3ms/step - loss: 38.2856\n",
      "Epoch 26/50\n",
      "25/25 [==============================] - 0s 3ms/step - loss: 38.2856\n",
      "Epoch 27/50\n",
      "25/25 [==============================] - 0s 3ms/step - loss: 38.2856\n",
      "Epoch 28/50\n",
      "25/25 [==============================] - 0s 3ms/step - loss: 38.2856\n",
      "Epoch 29/50\n",
      "25/25 [==============================] - 0s 3ms/step - loss: 38.2856\n",
      "Epoch 30/50\n",
      "25/25 [==============================] - 0s 3ms/step - loss: 38.2856\n",
      "Epoch 31/50\n",
      "25/25 [==============================] - 0s 3ms/step - loss: 38.2856\n",
      "Epoch 32/50\n",
      "25/25 [==============================] - 0s 3ms/step - loss: 38.2856\n",
      "Epoch 33/50\n",
      "25/25 [==============================] - 0s 3ms/step - loss: 38.2856\n",
      "Epoch 34/50\n",
      "25/25 [==============================] - 0s 3ms/step - loss: 38.2856\n",
      "Epoch 35/50\n",
      "25/25 [==============================] - 0s 3ms/step - loss: 38.2856\n",
      "Epoch 36/50\n",
      "25/25 [==============================] - 0s 3ms/step - loss: 38.2856\n",
      "Epoch 37/50\n",
      "25/25 [==============================] - 0s 2ms/step - loss: 38.2856\n",
      "Epoch 38/50\n",
      "25/25 [==============================] - 0s 3ms/step - loss: 38.2856\n",
      "Epoch 39/50\n",
      "25/25 [==============================] - 0s 3ms/step - loss: 38.2856\n",
      "Epoch 40/50\n",
      "25/25 [==============================] - 0s 3ms/step - loss: 38.2856\n",
      "Epoch 41/50\n",
      "25/25 [==============================] - 0s 3ms/step - loss: 38.2856\n",
      "Epoch 42/50\n",
      "25/25 [==============================] - 0s 3ms/step - loss: 38.2856\n",
      "Epoch 43/50\n",
      "25/25 [==============================] - 0s 3ms/step - loss: 38.2856\n",
      "Epoch 44/50\n",
      "25/25 [==============================] - 0s 3ms/step - loss: 38.2856\n",
      "Epoch 45/50\n",
      "25/25 [==============================] - 0s 3ms/step - loss: 38.2856\n",
      "Epoch 46/50\n",
      "25/25 [==============================] - 0s 5ms/step - loss: 38.2856\n",
      "Epoch 47/50\n",
      "25/25 [==============================] - 0s 4ms/step - loss: 38.2856\n",
      "Epoch 48/50\n",
      "25/25 [==============================] - 0s 3ms/step - loss: 38.2856\n",
      "Epoch 49/50\n",
      "25/25 [==============================] - 0s 3ms/step - loss: 38.2856\n",
      "Epoch 50/50\n",
      "25/25 [==============================] - 0s 3ms/step - loss: 38.2856\n"
     ]
    }
   ],
   "source": [
    "model.compile(loss = \"mean_squared_error\")  \n",
    "history = model.fit(\n",
    "                    X_train,\n",
    "                    y_train,\n",
    "                    epochs = 50,\n",
    "                    verbose = 1\n",
    "                    )"
   ]
  },
  {
   "cell_type": "code",
   "execution_count": 52,
   "metadata": {
    "colab": {
     "base_uri": "https://localhost:8080/"
    },
    "id": "vx74Q0LoyXIr",
    "outputId": "f33328b5-3dc9-485c-bc88-bbab11eabed6"
   },
   "outputs": [
    {
     "name": "stdout",
     "output_type": "stream",
     "text": [
      "7/7 [==============================] - 0s 3ms/step - loss: 39.9762\n"
     ]
    },
    {
     "data": {
      "text/plain": [
       "39.97624588012695"
      ]
     },
     "execution_count": 52,
     "metadata": {},
     "output_type": "execute_result"
    }
   ],
   "source": [
    "model.evaluate(X_test,y_test)  # 2.56280517578125"
   ]
  },
  {
   "cell_type": "code",
   "execution_count": 53,
   "metadata": {
    "id": "o4nQc72pyarR"
   },
   "outputs": [],
   "source": [
    "#4.1 Regarding train data\n",
    "no_of_samples_tr = X_train.shape[0]             # Each row is one sample: 7705\n",
    "input_features = X_train.shape[1]               # No of features: 178\n",
    "channels = 1\n",
    "batch_size_tr = no_of_samples_tr "
   ]
  },
  {
   "cell_type": "code",
   "execution_count": 54,
   "metadata": {
    "id": "lJehdAkxyhrF"
   },
   "outputs": [],
   "source": [
    "# 4.2 Regarding test data\n",
    "no_of_samples_test = X_test.shape[0]           # 3795\n",
    "input_features = X_test.shape[1]               # No of features. 178\n",
    "channels = 1\n",
    "batch_size_test = no_of_samples_test           # 3795"
   ]
  },
  {
   "cell_type": "code",
   "execution_count": 55,
   "metadata": {
    "id": "KlUrmuVqykVo"
   },
   "outputs": [],
   "source": [
    "# 4.3 Reshape input train/test data as required by Keras for conv1D\n",
    "train = X_train.reshape((no_of_samples_tr  , input_features, channels))\n",
    "test  = X_test.reshape(( no_of_samples_test, input_features, channels))"
   ]
  },
  {
   "cell_type": "code",
   "execution_count": 56,
   "metadata": {
    "id": "5AONR40_ynF3"
   },
   "outputs": [],
   "source": [
    " # 5.0 Design model\n",
    "\n",
    "# 5.1 Inputs to model. Note that inputs is NOT\n",
    "#       a part of layers object\n",
    "\n",
    "inputs = tf.keras.Input(shape = (X.shape[1],1))"
   ]
  },
  {
   "cell_type": "code",
   "execution_count": 57,
   "metadata": {
    "id": "SqpDWPAIywiJ"
   },
   "outputs": [],
   "source": [
    "# 5.2 Add convolution layers to left arm\n",
    "x_left = layers.Conv1D(\n",
    "                       filters = 32,\n",
    "                       kernel_size=3,\n",
    "                       activation='relu'\n",
    "                       )(inputs)\n",
    "\n",
    "# 5.2.1\n",
    "x_left = layers.Conv1D(\n",
    "                       filters = 64,\n",
    "                       kernel_size=3,\n",
    "                       activation='relu'\n",
    "                       )(x_left)"
   ]
  },
  {
   "cell_type": "code",
   "execution_count": 58,
   "metadata": {
    "id": "0_TibTxfyzbi"
   },
   "outputs": [],
   "source": [
    "# 5.3 Add convolution layers to right arm\n",
    "\n",
    "x_rt = layers.Conv1D(filters = 64, kernel_size=3,activation='relu')(inputs)\n",
    "\n",
    "# 5.3.1\n",
    "x_rt = layers.Conv1D(filters = 128, kernel_size=3,activation='relu')(x_rt)\n"
   ]
  },
  {
   "cell_type": "code",
   "execution_count": 59,
   "metadata": {
    "id": "ihor1LU8y15G"
   },
   "outputs": [],
   "source": [
    "# 5.4 Concatenate layers & Flatten:\n",
    "\n",
    "x = tf.keras.layers.concatenate([x_left,x_rt])\n",
    "x = layers.Flatten()(x)"
   ]
  },
  {
   "cell_type": "code",
   "execution_count": 60,
   "metadata": {
    "id": "_1A2AOcEy4QU"
   },
   "outputs": [],
   "source": [
    "# 5.5 Add Dense (classification) layers\n",
    "\n",
    "x = layers.Dense(64, activation = 'relu')(x)\n",
    "x = layers.Dropout(0.5)(x)\n",
    "x = layers.Dense(128, activation = 'relu')(x)"
   ]
  },
  {
   "cell_type": "code",
   "execution_count": 61,
   "metadata": {
    "id": "aZT_NFu8y6hE"
   },
   "outputs": [],
   "source": [
    "# 5.6 Final layer & model:\n",
    "\n",
    "out = layers.Dense(1,activation = 'sigmoid')(x)"
   ]
  },
  {
   "cell_type": "code",
   "execution_count": 62,
   "metadata": {
    "id": "SlH58PaCy9pa"
   },
   "outputs": [],
   "source": [
    "# 5.7 Create model now\n",
    "model1 = Model(inputs = [inputs], outputs = [out])"
   ]
  },
  {
   "cell_type": "code",
   "execution_count": 63,
   "metadata": {
    "colab": {
     "base_uri": "https://localhost:8080/",
     "height": 976
    },
    "id": "p8DLnCQEy_4z",
    "outputId": "a04f4b9f-7692-4704-bce8-171549726211"
   },
   "outputs": [
    {
     "data": {
      "image/png": "[encoded data removed]",
      "text/plain": [
       "<IPython.core.display.Image object>"
      ]
     },
     "execution_count": 63,
     "metadata": {},
     "output_type": "execute_result"
    }
   ],
   "source": [
    "# 5.8 Display model now\n",
    "\n",
    "plot_model(model1, show_shapes= True)"
   ]
  },
  {
   "cell_type": "code",
   "execution_count": 64,
   "metadata": {
    "colab": {
     "base_uri": "https://localhost:8080/"
    },
    "id": "3rsy-rhNzCam",
    "outputId": "bc6eb7eb-7be5-40b4-87fc-c4d348d4a4a1"
   },
   "outputs": [
    {
     "name": "stdout",
     "output_type": "stream",
     "text": [
      "Epoch 1/50\n",
      "25/25 [==============================] - 2s 8ms/step - loss: 40.2472\n",
      "Epoch 2/50\n",
      "25/25 [==============================] - 0s 6ms/step - loss: 38.2879\n",
      "Epoch 3/50\n",
      "25/25 [==============================] - 0s 8ms/step - loss: 38.2857\n",
      "Epoch 4/50\n",
      "25/25 [==============================] - 0s 8ms/step - loss: 38.2857\n",
      "Epoch 5/50\n",
      "25/25 [==============================] - 0s 8ms/step - loss: 38.2856\n",
      "Epoch 6/50\n",
      "25/25 [==============================] - 0s 9ms/step - loss: 38.2857\n",
      "Epoch 7/50\n",
      "25/25 [==============================] - 0s 6ms/step - loss: 38.2857\n",
      "Epoch 8/50\n",
      "25/25 [==============================] - 0s 8ms/step - loss: 38.2856\n",
      "Epoch 9/50\n",
      "25/25 [==============================] - 0s 5ms/step - loss: 38.2857\n",
      "Epoch 10/50\n",
      "25/25 [==============================] - 0s 7ms/step - loss: 38.2856\n",
      "Epoch 11/50\n",
      "25/25 [==============================] - 0s 8ms/step - loss: 38.2857\n",
      "Epoch 12/50\n",
      "25/25 [==============================] - 0s 6ms/step - loss: 38.2858\n",
      "Epoch 13/50\n",
      "25/25 [==============================] - 0s 5ms/step - loss: 38.2856\n",
      "Epoch 14/50\n",
      "25/25 [==============================] - 0s 7ms/step - loss: 38.2856\n",
      "Epoch 15/50\n",
      "25/25 [==============================] - 0s 7ms/step - loss: 38.2857\n",
      "Epoch 16/50\n",
      "25/25 [==============================] - 0s 6ms/step - loss: 38.2857\n",
      "Epoch 17/50\n",
      "25/25 [==============================] - 0s 6ms/step - loss: 38.2856\n",
      "Epoch 18/50\n",
      "25/25 [==============================] - 0s 9ms/step - loss: 38.2856\n",
      "Epoch 19/50\n",
      "25/25 [==============================] - 0s 7ms/step - loss: 38.2856\n",
      "Epoch 20/50\n",
      "25/25 [==============================] - 0s 7ms/step - loss: 38.2856\n",
      "Epoch 21/50\n",
      "25/25 [==============================] - 0s 9ms/step - loss: 38.2856\n",
      "Epoch 22/50\n",
      "25/25 [==============================] - 0s 8ms/step - loss: 38.2856\n",
      "Epoch 23/50\n",
      "25/25 [==============================] - 0s 8ms/step - loss: 38.2856\n",
      "Epoch 24/50\n",
      "25/25 [==============================] - 0s 7ms/step - loss: 38.2856\n",
      "Epoch 25/50\n",
      "25/25 [==============================] - 0s 8ms/step - loss: 38.2856\n",
      "Epoch 26/50\n",
      "25/25 [==============================] - 0s 7ms/step - loss: 38.2856\n",
      "Epoch 27/50\n",
      "25/25 [==============================] - 0s 9ms/step - loss: 38.2856\n",
      "Epoch 28/50\n",
      "25/25 [==============================] - 0s 8ms/step - loss: 38.2858\n",
      "Epoch 29/50\n",
      "25/25 [==============================] - 0s 7ms/step - loss: 38.2856\n",
      "Epoch 30/50\n",
      "25/25 [==============================] - 0s 6ms/step - loss: 38.2856\n",
      "Epoch 31/50\n",
      "25/25 [==============================] - 0s 6ms/step - loss: 38.2856\n",
      "Epoch 32/50\n",
      "25/25 [==============================] - 0s 8ms/step - loss: 38.2856\n",
      "Epoch 33/50\n",
      "25/25 [==============================] - 0s 10ms/step - loss: 38.2856\n",
      "Epoch 34/50\n",
      "25/25 [==============================] - 0s 8ms/step - loss: 38.2856\n",
      "Epoch 35/50\n",
      "25/25 [==============================] - 0s 8ms/step - loss: 38.2856\n",
      "Epoch 36/50\n",
      "25/25 [==============================] - 0s 8ms/step - loss: 38.2856\n",
      "Epoch 37/50\n",
      "25/25 [==============================] - 0s 8ms/step - loss: 38.2856\n",
      "Epoch 38/50\n",
      "25/25 [==============================] - 0s 7ms/step - loss: 38.2856\n",
      "Epoch 39/50\n",
      "25/25 [==============================] - 0s 8ms/step - loss: 38.2856\n",
      "Epoch 40/50\n",
      "25/25 [==============================] - 0s 10ms/step - loss: 38.2856\n",
      "Epoch 41/50\n",
      "25/25 [==============================] - 0s 9ms/step - loss: 38.2856\n",
      "Epoch 42/50\n",
      "25/25 [==============================] - 0s 8ms/step - loss: 38.2856\n",
      "Epoch 43/50\n",
      "25/25 [==============================] - 0s 6ms/step - loss: 38.2856\n",
      "Epoch 44/50\n",
      "25/25 [==============================] - 0s 7ms/step - loss: 38.2859\n",
      "Epoch 45/50\n",
      "25/25 [==============================] - 0s 7ms/step - loss: 38.2856\n",
      "Epoch 46/50\n",
      "25/25 [==============================] - 0s 8ms/step - loss: 38.2856\n",
      "Epoch 47/50\n",
      "25/25 [==============================] - 0s 5ms/step - loss: 38.2856\n",
      "Epoch 48/50\n",
      "25/25 [==============================] - 0s 5ms/step - loss: 38.2856\n",
      "Epoch 49/50\n",
      "25/25 [==============================] - 0s 5ms/step - loss: 38.2856\n",
      "Epoch 50/50\n",
      "25/25 [==============================] - 0s 5ms/step - loss: 38.2856\n"
     ]
    }
   ],
   "source": [
    "# 5.8 Compile model\n",
    "\n",
    "model1.compile(loss = \"mean_squared_error\", optimizer='adam')  \n",
    "history = model1.fit(\n",
    "                    train,\n",
    "                    y_train,\n",
    "                    epochs = 50,\n",
    "                    verbose = 1\n",
    "                    )"
   ]
  },
  {
   "cell_type": "code",
   "execution_count": 65,
   "metadata": {
    "colab": {
     "base_uri": "https://localhost:8080/"
    },
    "id": "6YbMPSngzNwG",
    "outputId": "792a7eea-6548-48a4-e2de-804a850c90de"
   },
   "outputs": [
    {
     "name": "stdout",
     "output_type": "stream",
     "text": [
      "7/7 [==============================] - 1s 3ms/step - loss: 39.9762\n"
     ]
    },
    {
     "data": {
      "text/plain": [
       "39.97624588012695"
      ]
     },
     "execution_count": 65,
     "metadata": {},
     "output_type": "execute_result"
    }
   ],
   "source": [
    "# 5.9 \n",
    "model1.evaluate(test,y_test) "
   ]
  },
  {
   "cell_type": "code",
   "execution_count": 66,
   "metadata": {
    "id": "s65WrmV-zRVu"
   },
   "outputs": [],
   "source": [
    "########## Project 2 done #######"
   ]
  },
  {
   "cell_type": "code",
   "execution_count": null,
   "metadata": {
    "id": "MAw2hopCzWMJ"
   },
   "outputs": [],
   "source": []
  }
 ],
 "metadata": {
  "colab": {
   "collapsed_sections": [],
   "name": "015034_Project 2_numerical.ipynb",
   "provenance": []
  },
  "kernelspec": {
   "display_name": "Python 3",
   "language": "python",
   "name": "python3"
  },
  "language_info": {
   "codemirror_mode": {
    "name": "ipython",
    "version": 3
   },
   "file_extension": ".py",
   "mimetype": "text/x-python",
   "name": "python",
   "nbconvert_exporter": "python",
   "pygments_lexer": "ipython3",
   "version": "3.8.3"
  }
 },
 "nbformat": 4,
 "nbformat_minor": 1
}
